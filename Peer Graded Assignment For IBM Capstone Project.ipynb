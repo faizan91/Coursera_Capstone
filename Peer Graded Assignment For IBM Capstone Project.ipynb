{
    "cells": [
        {
            "metadata": {},
            "cell_type": "code",
            "source": "# This is the first peer graded assignment of  the coursera capstone project\n# As per the instructions I'm supposed to import libraries and submit this notebook to my github repository",
            "execution_count": 1,
            "outputs": []
        },
        {
            "metadata": {},
            "cell_type": "code",
            "source": "# Import Libraries\nimport pandas as pd\nimport numpy as np\n",
            "execution_count": 2,
            "outputs": []
        },
        {
            "metadata": {},
            "cell_type": "code",
            "source": "print(\"Hello Capstone Project Course!\")",
            "execution_count": 3,
            "outputs": [
                {
                    "output_type": "stream",
                    "text": "Hello Capstone Project Course!\n",
                    "name": "stdout"
                }
            ]
        },
        {
            "metadata": {},
            "cell_type": "code",
            "source": "# Follow this link to view this repository on an IBM cloud based Jupyter Notebook\nprint(\"https://dataplatform.cloud.ibm.com/analytics/notebooks/v2/9dabd54e-352b-42a7-85dc-5d3d8d85a027/view?access_token=f6589ec9f00b39433cf663910386f6fa8b32f6d0c146b7253a0cce1f0ee4131b\")",
            "execution_count": 4,
            "outputs": [
                {
                    "output_type": "stream",
                    "text": "https://dataplatform.cloud.ibm.com/analytics/notebooks/v2/9dabd54e-352b-42a7-85dc-5d3d8d85a027/view?access_token=f6589ec9f00b39433cf663910386f6fa8b32f6d0c146b7253a0cce1f0ee4131b\n",
                    "name": "stdout"
                }
            ]
        },
        {
            "metadata": {},
            "cell_type": "code",
            "source": "",
            "execution_count": null,
            "outputs": []
        }
    ],
    "metadata": {
        "kernelspec": {
            "name": "python3",
            "display_name": "Python 3.6",
            "language": "python"
        },
        "language_info": {
            "name": "python",
            "version": "3.6.9",
            "mimetype": "text/x-python",
            "codemirror_mode": {
                "name": "ipython",
                "version": 3
            },
            "pygments_lexer": "ipython3",
            "nbconvert_exporter": "python",
            "file_extension": ".py"
        }
    },
    "nbformat": 4,
    "nbformat_minor": 1
}