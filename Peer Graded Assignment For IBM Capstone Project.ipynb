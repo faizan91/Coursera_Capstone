{
    "cells": [
        {
            "cell_type": "code",
            "execution_count": 1,
            "metadata": {},
            "outputs": [],
            "source": "# This is the first peer graded assignment of  the coursera capstone project\n# As per the instructions I'm supposed to import libraries and submit this notebook to my github repository"
        },
        {
            "cell_type": "code",
            "execution_count": 2,
            "metadata": {},
            "outputs": [],
            "source": "# Import Libraries\nimport pandas as pd\nimport numpy as np\n"
        },
        {
            "cell_type": "code",
            "execution_count": 3,
            "metadata": {},
            "outputs": [
                {
                    "name": "stdout",
                    "output_type": "stream",
                    "text": "Hello Capstone Project Course!\n"
                }
            ],
            "source": "print(\"Hello Capstone Project Course!\")"
        },
        {
            "cell_type": "code",
            "execution_count": 4,
            "metadata": {},
            "outputs": [
                {
                    "name": "stdout",
                    "output_type": "stream",
                    "text": "https://dataplatform.cloud.ibm.com/analytics/notebooks/v2/9dabd54e-352b-42a7-85dc-5d3d8d85a027/view?access_token=f6589ec9f00b39433cf663910386f6fa8b32f6d0c146b7253a0cce1f0ee4131b\n"
                }
            ],
            "source": "# Follow this link to view this repository on an IBM cloud based Jupyter Notebook\nprint(\"https://dataplatform.cloud.ibm.com/analytics/notebooks/v2/9dabd54e-352b-42a7-85dc-5d3d8d85a027/view?access_token=f6589ec9f00b39433cf663910386f6fa8b32f6d0c146b7253a0cce1f0ee4131b\")"
        },
        {
            "cell_type": "code",
            "execution_count": null,
            "metadata": {},
            "outputs": [],
            "source": ""
        }
    ],
    "metadata": {
        "kernelspec": {
            "display_name": "Python 3.6",
            "language": "python",
            "name": "python3"
        },
        "language_info": {
            "codemirror_mode": {
                "name": "ipython",
                "version": 3
            },
            "file_extension": ".py",
            "mimetype": "text/x-python",
            "name": "python",
            "nbconvert_exporter": "python",
            "pygments_lexer": "ipython3",
            "version": "3.6.9"
        }
    },
    "nbformat": 4,
    "nbformat_minor": 1
}