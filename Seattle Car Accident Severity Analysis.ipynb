{
    "cells": [
        {
            "metadata": {
                "collapsed": true
            },
            "cell_type": "markdown",
            "source": "### A description of the problem and a discussion of the background. (15 marks)\n### A description of the data and how it will be used to solve the problem. (15 marks)"
        },
        {
            "metadata": {},
            "cell_type": "markdown",
            "source": "# Introduction/ Understanding of the business"
        },
        {
            "metadata": {},
            "cell_type": "markdown",
            "source": "An algorithm needs to be developed in order to reduce the car collisions in Seattle area given the road, weather and visibility conditions. In the following application the drivers will be alerted of the severity level when then condition of severity is above 0. "
        },
        {
            "metadata": {},
            "cell_type": "markdown",
            "source": "# Data Understanding\nOur predictor or target variable will be 'SEVERITYCODE' because it is used to measure the severity of an accident from 0 to 4 within the dataset. The following attributes 'WEATHER', 'ROADCOND' and 'LIGHTCOND' will be used to weigh the severity of an accident. \n\nSeverity codes:\n\n0 : Little to no Probability (Clear Conditions) <br>\n1 : Very Low Probability - Chance or Property Damage <br>\n2 : Low Probability - Chance of Injury <br>\n3 : Mild Probability - Chance of Serious Injury <br>\n4 : High Probability - Chance of Fatality"
        },
        {
            "metadata": {},
            "cell_type": "markdown",
            "source": "The Data Set Data_Collisons.csv is provided and we will use it to extract our attributes before being fed into machine learning models.\n\n## We will use the following models:\n\n### K-Nearest Neighbor (KNN)\nKNN will help us predict the severity code of an outcome by finding the most similar to data point within k distance.\n\n### Decision Tree\nA decision tree model gives us a layout of all possible outcomes so we can fully analyze the consequences of a decision. It context, the decision tree observes all possible outcomes of different weather conditions.\n\n### Logistic Regression\nBecause our dataset only provides us with two severity code outcomes, our model will only predict one of those two classes. This makes our data binary, which is perfect to use with logistic regression."
        },
        {
            "metadata": {},
            "cell_type": "code",
            "source": "",
            "execution_count": null,
            "outputs": []
        }
    ],
    "metadata": {
        "kernelspec": {
            "name": "python3",
            "display_name": "Python 3.6",
            "language": "python"
        },
        "language_info": {
            "name": "python",
            "version": "3.6.9",
            "mimetype": "text/x-python",
            "codemirror_mode": {
                "name": "ipython",
                "version": 3
            },
            "pygments_lexer": "ipython3",
            "nbconvert_exporter": "python",
            "file_extension": ".py"
        }
    },
    "nbformat": 4,
    "nbformat_minor": 1
}